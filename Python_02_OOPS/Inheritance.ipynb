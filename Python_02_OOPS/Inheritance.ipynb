{
 "cells": [
  {
   "cell_type": "markdown",
   "id": "b74ae522",
   "metadata": {},
   "source": [
    "Inheritance in Python"
   ]
  },
  {
   "cell_type": "code",
   "execution_count": 9,
   "id": "e6b76544",
   "metadata": {},
   "outputs": [],
   "source": [
    "# The super() function is used to give access to methods and properties of a parent or sibling class.\n",
    "# Single Inheritance \n",
    "\n",
    "class Car:\n",
    "    def __init__(self, doors, windows, owner):\n",
    "        self.doors = doors\n",
    "        self.windows = windows\n",
    "        self.owner = owner\n",
    "    def getOwnerName(self):\n",
    "        print(f\"{self.owner} is the owner of the car\")\n",
    "class Tesla(Car):\n",
    "    def __init__(self, doors, windows, owner, isSelfDriving):\n",
    "        super().__init__(doors, windows, owner)\n",
    "        self.isSelfDriving = isSelfDriving\n",
    "    def hasSelfDriving(self):\n",
    "        if self.isSelfDriving:\n",
    "            print(f\"Hi {self.owner}, your car has self driving\")\n",
    "        else:\n",
    "            print(f\"Hi {self.owner}, your car does not have self driving\")"
   ]
  },
  {
   "cell_type": "code",
   "execution_count": 10,
   "id": "3a38761f",
   "metadata": {},
   "outputs": [],
   "source": [
    "model3 = Tesla(4,4,\"Kalyan\", True)"
   ]
  },
  {
   "cell_type": "code",
   "execution_count": 14,
   "id": "bf91cc83",
   "metadata": {},
   "outputs": [
    {
     "name": "stdout",
     "output_type": "stream",
     "text": [
      "Kalyan is the owner of the car\n",
      "Hi Kalyan, your car has self driving\n"
     ]
    }
   ],
   "source": [
    "model3.getOwnerName()\n",
    "model3.hasSelfDriving()"
   ]
  },
  {
   "cell_type": "code",
   "execution_count": 15,
   "id": "5f80d3b3",
   "metadata": {},
   "outputs": [
    {
     "name": "stdout",
     "output_type": "stream",
     "text": [
      "Method from ParentClass2\n"
     ]
    }
   ],
   "source": [
    "#Multiple Inheritance\n",
    "# Check the child class itself first\n",
    "# If the method exists in the child, Python uses that.\n",
    "# If not found in the child, check parent classes from left to right\n",
    "# The order is exactly how you list the parents in the class definition.\n",
    "class ParentClass1:\n",
    "    def method(self):\n",
    "        print(\"Method from ParentClass1\")\n",
    "\n",
    "class ParentClass2:\n",
    "    def method(self):\n",
    "        print(\"Method from ParentClass2\")\n",
    "\n",
    "class ChildClass(ParentClass2, ParentClass1):\n",
    "    pass\n",
    "\n",
    "child = ChildClass()\n",
    "child.method()"
   ]
  },
  {
   "cell_type": "code",
   "execution_count": null,
   "id": "992bdbd6",
   "metadata": {},
   "outputs": [],
   "source": []
  }
 ],
 "metadata": {
  "kernelspec": {
   "display_name": "myenv",
   "language": "python",
   "name": "python3"
  },
  "language_info": {
   "codemirror_mode": {
    "name": "ipython",
    "version": 3
   },
   "file_extension": ".py",
   "mimetype": "text/x-python",
   "name": "python",
   "nbconvert_exporter": "python",
   "pygments_lexer": "ipython3",
   "version": "3.12.11"
  }
 },
 "nbformat": 4,
 "nbformat_minor": 5
}
