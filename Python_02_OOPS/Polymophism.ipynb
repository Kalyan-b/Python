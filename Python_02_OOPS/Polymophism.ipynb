{
 "cells": [
  {
   "cell_type": "markdown",
   "id": "14486eb1",
   "metadata": {},
   "source": [
    "Polymorphism: The word \"polymorphism\" means \"many forms\", and in programming it refers to methods/functions/operators with the same name that can be executed on many objects or classes."
   ]
  },
  {
   "cell_type": "code",
   "execution_count": 3,
   "id": "1ad6be51",
   "metadata": {},
   "outputs": [
    {
     "name": "stdout",
     "output_type": "stream",
     "text": [
      "Bow Bow\n",
      "Meow Meow\n"
     ]
    }
   ],
   "source": [
    "# Method Overriding\n",
    "class Animal:\n",
    "    def speak(self):\n",
    "        return \"Animal speaks\"\n",
    "\n",
    "class Dog(Animal):\n",
    "    def speak(self):\n",
    "        return \"Bow Bow\"\n",
    "\n",
    "class Cat(Animal):\n",
    "    def speak(self):\n",
    "        return \"Meow Meow\"\n",
    "\n",
    "def animal_speaks(animal):\n",
    "    return (animal.speak())\n",
    "\n",
    "dog = Dog()\n",
    "cat = Cat()\n",
    "print(animal_speaks(dog))\n",
    "print(animal_speaks(cat))"
   ]
  },
  {
   "cell_type": "code",
   "execution_count": 18,
   "id": "4df22ce9",
   "metadata": {},
   "outputs": [
    {
     "name": "stdout",
     "output_type": "stream",
     "text": [
      "Bike runs on Petrol\n",
      "Car runs on Diesel\n"
     ]
    }
   ],
   "source": [
    "from abc import ABC, abstractmethod\n",
    "\n",
    "class Vehicle(ABC):\n",
    "\n",
    "    @property\n",
    "    @abstractmethod\n",
    "    def fuel(self):\n",
    "        pass\n",
    "\n",
    "class Bike(Vehicle):\n",
    "    @property\n",
    "    def fuel(self):\n",
    "        return \"Petrol\"\n",
    "\n",
    "class Car(Vehicle):\n",
    "    @property\n",
    "    def fuel(self):\n",
    "        return \"Diesel\"\n",
    "\n",
    "# Polymorphism in action\n",
    "vehicles = [Bike(), Car()]\n",
    "\n",
    "for v in vehicles:\n",
    "    print(f\"{v.__class__.__name__} runs on {v.fuel}\")\n"
   ]
  },
  {
   "cell_type": "code",
   "execution_count": null,
   "id": "d2d7267c",
   "metadata": {},
   "outputs": [],
   "source": []
  }
 ],
 "metadata": {
  "kernelspec": {
   "display_name": "myenv",
   "language": "python",
   "name": "python3"
  },
  "language_info": {
   "codemirror_mode": {
    "name": "ipython",
    "version": 3
   },
   "file_extension": ".py",
   "mimetype": "text/x-python",
   "name": "python",
   "nbconvert_exporter": "python",
   "pygments_lexer": "ipython3",
   "version": "3.12.11"
  }
 },
 "nbformat": 4,
 "nbformat_minor": 5
}
