{
 "cells": [
  {
   "cell_type": "markdown",
   "id": "33922e43",
   "metadata": {},
   "source": [
    "Abstraction: Hiding complex implementation details and showing only the necessary features to a object"
   ]
  },
  {
   "cell_type": "code",
   "execution_count": 6,
   "id": "c65ce82e",
   "metadata": {},
   "outputs": [
    {
     "name": "stdout",
     "output_type": "stream",
     "text": [
      "Vechile is in drive mode\n",
      "Petrol Car\n"
     ]
    }
   ],
   "source": [
    "# Abstract Base Class\n",
    "from abc import abstractmethod,ABC\n",
    "\n",
    "class Vechile(ABC):\n",
    "    def drive(self):\n",
    "        print(\"Vechile is in drive mode\")\n",
    "    \n",
    "    @abstractmethod\n",
    "    def fuel(self):\n",
    "        pass\n",
    "\n",
    "class Car(Vechile):\n",
    "    def fuel(self):\n",
    "        print(\"Petrol Car\")\n",
    "car = Car()\n",
    "car.drive()\n",
    "car.fuel()"
   ]
  },
  {
   "cell_type": "code",
   "execution_count": null,
   "id": "f6f539eb",
   "metadata": {},
   "outputs": [],
   "source": []
  }
 ],
 "metadata": {
  "kernelspec": {
   "display_name": "myenv",
   "language": "python",
   "name": "python3"
  },
  "language_info": {
   "codemirror_mode": {
    "name": "ipython",
    "version": 3
   },
   "file_extension": ".py",
   "mimetype": "text/x-python",
   "name": "python",
   "nbconvert_exporter": "python",
   "pygments_lexer": "ipython3",
   "version": "3.12.11"
  }
 },
 "nbformat": 4,
 "nbformat_minor": 5
}
