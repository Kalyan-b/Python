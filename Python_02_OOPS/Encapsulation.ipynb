{
 "cells": [
  {
   "cell_type": "markdown",
   "id": "9c5e9f34",
   "metadata": {},
   "source": [
    "Encapsulation"
   ]
  },
  {
   "cell_type": "code",
   "execution_count": null,
   "id": "b092edce",
   "metadata": {},
   "outputs": [
    {
     "name": "stdout",
     "output_type": "stream",
     "text": [
      "Public: Male\n",
      "Protected: Kalyan\n",
      "Private (via name mangling): 22\n",
      "Private (via getter): 22\n",
      "Updated Age: 25\n",
      "Employee Name: Ravi, Gender: Male, ID: E101\n",
      "Age via getter: 30\n"
     ]
    }
   ],
   "source": [
    "# Example: Encapsulation with getter and setter methods\n",
    "# Demonstrates: Public, Protected, and Private variables in Python\n",
    "\n",
    "class Person:\n",
    "    def __init__(self, name, age, gender):\n",
    "        self._name = name        # Protected variable (single underscore)\n",
    "        self.__age = age         # Private variable (double underscore)\n",
    "        self.gender = gender     # Public variable (no underscore)\n",
    "\n",
    "    # Getter for private variable __age\n",
    "    def get_age(self):\n",
    "        return self.__age\n",
    "\n",
    "    # Setter for private variable __age\n",
    "    def set_age(self, age):\n",
    "        if age > 0:  # validation\n",
    "            self.__age = age\n",
    "        else:\n",
    "            print(\"Invalid age\")\n",
    "\n",
    "class Employee(Person):\n",
    "    def __init__(self, name, age, gender, emp_id):\n",
    "        super().__init__(name, age, gender)\n",
    "        self.emp_id = emp_id\n",
    "    \n",
    "    def show_info(self):\n",
    "        # Accessing protected variable _name (allowed in derived class)\n",
    "        print(f\"Employee Name: {self._name}, Gender: {self.gender}, ID: {self.emp_id}\")\n",
    "        # Accessing private variable __age (NOT allowed directly)\n",
    "        # print(self.__age)  # ❌ Error\n",
    "        print(f\"Age via getter: {self.get_age()}\")  # ✅ Correct way\n",
    "# Usage\n",
    "p1 = Person(\"Kalyan\", 22, \"Male\")\n",
    "\n",
    "# Public variable (accessible anywhere)\n",
    "print(\"Public:\", p1.gender)\n",
    "\n",
    "# Protected variable (can be accessed, but by convention should be used in subclasses)\n",
    "print(\"Protected:\", p1._name)\n",
    "\n",
    "# Private variable (cannot be accessed directly)\n",
    "# print(p1.__age)  # ❌ AttributeError\n",
    "print(\"Private (via name mangling):\", p1._Person__age)  # Not recommended\n",
    "print(\"Private (via getter):\", p1.get_age())  # ✅ Best way\n",
    "\n",
    "# Setter in action\n",
    "p1.set_age(25)\n",
    "print(\"Updated Age:\", p1.get_age())\n",
    "\n",
    "# Derived class accessing protected & private\n",
    "emp = Employee(\"Ravi\", 30, \"Male\", \"E101\")\n",
    "emp.show_info()\n"
   ]
  },
  {
   "cell_type": "code",
   "execution_count": null,
   "id": "8e61fbb1",
   "metadata": {},
   "outputs": [],
   "source": []
  }
 ],
 "metadata": {
  "kernelspec": {
   "display_name": "myenv",
   "language": "python",
   "name": "python3"
  },
  "language_info": {
   "codemirror_mode": {
    "name": "ipython",
    "version": 3
   },
   "file_extension": ".py",
   "mimetype": "text/x-python",
   "name": "python",
   "nbconvert_exporter": "python",
   "pygments_lexer": "ipython3",
   "version": "3.12.11"
  }
 },
 "nbformat": 4,
 "nbformat_minor": 5
}
