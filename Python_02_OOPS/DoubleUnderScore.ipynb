{
 "cells": [
  {
   "cell_type": "markdown",
   "id": "2233b52f",
   "metadata": {},
   "source": [
    "Magic Methods: Magic Methods or Double UnderScore Methods(Dunder Methods), are special methods that start and end with a double underscore.\n",
    "These help you to define the behaviour of objects for build in methods, such as arithmetic, comparision etc"
   ]
  },
  {
   "cell_type": "code",
   "execution_count": 12,
   "id": "f1e564ce",
   "metadata": {},
   "outputs": [
    {
     "name": "stdout",
     "output_type": "stream",
     "text": [
      "['__class__', '__delattr__', '__dict__', '__dir__', '__doc__', '__eq__', '__format__', '__ge__', '__getattribute__', '__getstate__', '__gt__', '__hash__', '__init__', '__init_subclass__', '__le__', '__lt__', '__module__', '__ne__', '__new__', '__reduce__', '__reduce_ex__', '__repr__', '__setattr__', '__sizeof__', '__str__', '__subclasshook__', '__weakref__']\n",
      "Kalyan is 22 years old\n",
      "Person(name='Kalyan', age=22)\n",
      "[Person(name='Kalyan', age=22), Person(name='Likith', age=21)]\n"
     ]
    }
   ],
   "source": [
    "# Example: Understanding __str__ and __repr__ in Python\n",
    "\n",
    "# Every object in Python has \"magic methods\" (also called dunder methods, \n",
    "# because of the double underscores, like __init__, __str__, __repr__, etc.)\n",
    "# You can list them using dir(object).\n",
    "\n",
    "class Test:\n",
    "    pass\n",
    "\n",
    "test = Test()\n",
    "\n",
    "# See available magic methods\n",
    "print(dir(test))  \n",
    "\n",
    "# ----------------------------------------\n",
    "# __str__ and __repr__ Demonstration\n",
    "# ----------------------------------------\n",
    "\n",
    "class Person:\n",
    "    def __init__(self, name, age):\n",
    "        self.name = name\n",
    "        self.age = age\n",
    "    \n",
    "    # __str__ → user-friendly string representation\n",
    "    def __str__(self):\n",
    "        return f\"{self.name} is {self.age} years old\"\n",
    "    \n",
    "    # __repr__ → developer/debugging string representation\n",
    "    def __repr__(self):\n",
    "        return f\"Person(name='{self.name}', age={self.age})\"\n",
    "\n",
    "\n",
    "# Create objects\n",
    "p1 = Person(\"Kalyan\", 22)\n",
    "p2 = Person(\"Likith\", 21)\n",
    "\n",
    "# __str__ is called when printing the object\n",
    "print(p1)           # \"Kalyan is 22 years old\"\n",
    "\n",
    "# __repr__ is called when using repr() or inside collections like lists/dicts\n",
    "print(repr(p1))     # \"Person(name='Kalyan', age=22)\"\n",
    "\n",
    "# When printing a list of objects, Python uses __repr__ for each element\n",
    "persons = [p1, p2]\n",
    "print(persons)      # [Person(name='Kalyan', age=22), Person(name='Likith', age=21)]\n"
   ]
  },
  {
   "cell_type": "code",
   "execution_count": null,
   "id": "941f6037",
   "metadata": {},
   "outputs": [],
   "source": []
  }
 ],
 "metadata": {
  "kernelspec": {
   "display_name": "myenv",
   "language": "python",
   "name": "python3"
  },
  "language_info": {
   "codemirror_mode": {
    "name": "ipython",
    "version": 3
   },
   "file_extension": ".py",
   "mimetype": "text/x-python",
   "name": "python",
   "nbconvert_exporter": "python",
   "pygments_lexer": "ipython3",
   "version": "3.12.11"
  }
 },
 "nbformat": 4,
 "nbformat_minor": 5
}
