{
 "cells": [
  {
   "cell_type": "code",
   "execution_count": 9,
   "id": "d9e7bbe3",
   "metadata": {},
   "outputs": [],
   "source": [
    "# Single Line Comment \n",
    "# \"\"\"Multi Line Comment (Not Supported In Jupyter NoteBook)\"\"\""
   ]
  },
  {
   "cell_type": "code",
   "execution_count": 11,
   "id": "936425f8",
   "metadata": {},
   "outputs": [
    {
     "name": "stdout",
     "output_type": "stream",
     "text": [
      "10 20\n"
     ]
    }
   ],
   "source": [
    "# Case Sensitivity\n",
    "a = 10\n",
    "A = 20\n",
    "print(a,A)"
   ]
  },
  {
   "cell_type": "code",
   "execution_count": 13,
   "id": "ccbec703",
   "metadata": {},
   "outputs": [
    {
     "name": "stdout",
     "output_type": "stream",
     "text": [
      "Inside First if block\n",
      "Inside nested if block\n",
      "Still Inside First if block but outside nested if block\n",
      "outside all if blocks\n"
     ]
    }
   ],
   "source": [
    "# Indentation\n",
    "if True:\n",
    "    print(\"Inside First if block\")\n",
    "    if True:\n",
    "        print(\"Inside nested if block\")\n",
    "    print(\"Still Inside First if block but outside nested if block\")\n",
    "print(\"outside all if blocks\")"
   ]
  },
  {
   "cell_type": "code",
   "execution_count": 17,
   "id": "a0725deb",
   "metadata": {},
   "outputs": [
    {
     "name": "stdout",
     "output_type": "stream",
     "text": [
      "kalyan     battula\n",
      "kalyan battula\n"
     ]
    }
   ],
   "source": [
    "# Line Continuation:- space is also counted use \\ to continue on next line\n",
    "print(\"kalyan \\\n",
    "    battula\")\n",
    "print(\"kalyan \\\n",
    "battula\")"
   ]
  },
  {
   "cell_type": "code",
   "execution_count": 18,
   "id": "453df8a0",
   "metadata": {},
   "outputs": [
    {
     "name": "stdout",
     "output_type": "stream",
     "text": [
      "30\n"
     ]
    }
   ],
   "source": [
    "# Multiple Statements in single line\n",
    "a=10;b=20;print(a+b)"
   ]
  },
  {
   "cell_type": "code",
   "execution_count": 21,
   "id": "482b38ff",
   "metadata": {},
   "outputs": [
    {
     "name": "stdout",
     "output_type": "stream",
     "text": [
      "<class 'int'>\n",
      "<class 'str'>\n"
     ]
    }
   ],
   "source": [
    "# Variable Assignment:- No need to declare data type, python determines it in runtime\n",
    "a = 10\n",
    "print(type(a))\n",
    "a = \"Kalyan\"\n",
    "print(type(a))"
   ]
  }
 ],
 "metadata": {
  "kernelspec": {
   "display_name": "myenv",
   "language": "python",
   "name": "python3"
  },
  "language_info": {
   "codemirror_mode": {
    "name": "ipython",
    "version": 3
   },
   "file_extension": ".py",
   "mimetype": "text/x-python",
   "name": "python",
   "nbconvert_exporter": "python",
   "pygments_lexer": "ipython3",
   "version": "3.12.11"
  }
 },
 "nbformat": 4,
 "nbformat_minor": 5
}
