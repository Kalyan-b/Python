{
 "cells": [
  {
   "cell_type": "markdown",
   "id": "6369a293",
   "metadata": {
    "vscode": {
     "languageId": "plaintext"
    }
   },
   "source": [
    "# Exception Handling"
   ]
  },
  {
   "cell_type": "code",
   "execution_count": 2,
   "id": "e201b715",
   "metadata": {},
   "outputs": [
    {
     "ename": "NameError",
     "evalue": "name 'b' is not defined",
     "output_type": "error",
     "traceback": [
      "\u001b[31m---------------------------------------------------------------------------\u001b[39m",
      "\u001b[31mNameError\u001b[39m                                 Traceback (most recent call last)",
      "\u001b[36mCell\u001b[39m\u001b[36m \u001b[39m\u001b[32mIn[2]\u001b[39m\u001b[32m, line 2\u001b[39m\n\u001b[32m      1\u001b[39m \u001b[38;5;66;03m# Name Error\u001b[39;00m\n\u001b[32m----> \u001b[39m\u001b[32m2\u001b[39m a = \u001b[43mb\u001b[49m\n\u001b[32m      3\u001b[39m \u001b[38;5;28mprint\u001b[39m(\u001b[33m\"\u001b[39m\u001b[33mInterpreter dosen\u001b[39m\u001b[33m'\u001b[39m\u001b[33mt execute this statement due to program being disrupted in above statement\u001b[39m\u001b[33m\"\u001b[39m)\n",
      "\u001b[31mNameError\u001b[39m: name 'b' is not defined"
     ]
    }
   ],
   "source": [
    "# Name Error\n",
    "a = b\n",
    "print(\"Interpreter dosen't execute this statement due to program being disrupted in above statement\")"
   ]
  },
  {
   "cell_type": "code",
   "execution_count": 4,
   "id": "41ead29c",
   "metadata": {},
   "outputs": [
    {
     "name": "stdout",
     "output_type": "stream",
     "text": [
      "name 'b' is not defined\n",
      "Interpreter executes this statement due to program handling exception in above statement\n"
     ]
    }
   ],
   "source": [
    "# Handling Name Error\n",
    "try:\n",
    "    a = b\n",
    "except NameError as ne:\n",
    "    print(ne)\n",
    "print(\"Interpreter executes this statement due to program handling exception in above statement\")"
   ]
  },
  {
   "cell_type": "code",
   "execution_count": 6,
   "id": "8da087c9",
   "metadata": {},
   "outputs": [
    {
     "ename": "ZeroDivisionError",
     "evalue": "division by zero",
     "output_type": "error",
     "traceback": [
      "\u001b[31m---------------------------------------------------------------------------\u001b[39m",
      "\u001b[31mZeroDivisionError\u001b[39m                         Traceback (most recent call last)",
      "\u001b[36mCell\u001b[39m\u001b[36m \u001b[39m\u001b[32mIn[6]\u001b[39m\u001b[32m, line 2\u001b[39m\n\u001b[32m      1\u001b[39m \u001b[38;5;66;03m# Zero Division Error\u001b[39;00m\n\u001b[32m----> \u001b[39m\u001b[32m2\u001b[39m \u001b[38;5;28mprint\u001b[39m(\u001b[32;43m1\u001b[39;49m\u001b[43m/\u001b[49m\u001b[32;43m0\u001b[39;49m)\n",
      "\u001b[31mZeroDivisionError\u001b[39m: division by zero"
     ]
    }
   ],
   "source": [
    "# Zero Division Error\n",
    "print(1/0)"
   ]
  },
  {
   "cell_type": "code",
   "execution_count": 16,
   "id": "d65d58ee",
   "metadata": {},
   "outputs": [
    {
     "name": "stdout",
     "output_type": "stream",
     "text": [
      "division by zero\n"
     ]
    }
   ],
   "source": [
    "try:\n",
    "    print(1/0)\n",
    "except Exception as ex:\n",
    "    print(ex)\n",
    "except (ZeroDivisionError,NameError) as zde:\n",
    "    print(zde)"
   ]
  },
  {
   "cell_type": "code",
   "execution_count": null,
   "id": "5615c695",
   "metadata": {},
   "outputs": [
    {
     "name": "stdout",
     "output_type": "stream",
     "text": [
      "unsupported operand type(s) for /: 'str' and 'int'\n"
     ]
    }
   ],
   "source": [
    "# Main Exception class is \"Exception\"\n",
    "try:\n",
    "    print(1/0)\n",
    "    print(a==b)\n",
    "    print(\"String\"/10)\n",
    "except Exception as ex:\n",
    "    print(ex)"
   ]
  },
  {
   "cell_type": "code",
   "execution_count": 24,
   "id": "3c1ffa9c",
   "metadata": {},
   "outputs": [
    {
     "name": "stdout",
     "output_type": "stream",
     "text": [
      "No exception occured, 100 / 100 is 1.0\n",
      "This block is executed irrespective of the result\n"
     ]
    }
   ],
   "source": [
    "# Else and Finally: else will execute if there is no error, finally will execute irrespective of the result\n",
    "try:\n",
    "    num = int(input(\"Enter a number: \"))\n",
    "    divide = 100 / num\n",
    "except ValueError as ve:\n",
    "    print(ve,\"Use valid input\")\n",
    "except ZeroDivisionError as zde:\n",
    "    print(zde)\n",
    "else:\n",
    "    print(f\"No exception occured, {100} / {num} is {divide}\")\n",
    "finally:\n",
    "    print(\"This block is executed irrespective of the result\")"
   ]
  },
  {
   "cell_type": "code",
   "execution_count": 28,
   "id": "f4c2ac85",
   "metadata": {},
   "outputs": [
    {
     "name": "stdout",
     "output_type": "stream",
     "text": [
      "Hello World\n",
      "I'm Chitti\n",
      "o maramanishi maaa loki ra\n",
      "o maramanishi maaa loki ra\n",
      "na thelivi inthe kadha\n",
      "ne gynanam entho kadha\n",
      "\n"
     ]
    }
   ],
   "source": [
    "# File and exception handling\n",
    "try:\n",
    "    with open('example.txt','r') as file:\n",
    "        print(file.read())\n",
    "except FileNotFoundError as fnfe:\n",
    "    print(fnfe)\n",
    "finally:\n",
    "    if file in locals() and not file.closed():\n",
    "        file.close()\n",
    "        print(\"File Closed\")\n"
   ]
  },
  {
   "cell_type": "code",
   "execution_count": 30,
   "id": "5dd36679",
   "metadata": {},
   "outputs": [
    {
     "name": "stdout",
     "output_type": "stream",
     "text": [
      "0  cannot be zero, Invalid Division by zero\n",
      "Inside finally block\n"
     ]
    }
   ],
   "source": [
    "### Assignment 1: Handling Division by Zero\n",
    "\n",
    "# Write a function that takes two integers as input and returns their division. Use try, except, and finally blocks to handle division by zero and print an appropriate message.\n",
    "def division(num1, num2):\n",
    "    return num1/num2\n",
    "try:\n",
    "    num1 = int(input(\"Enter number 1: \"))\n",
    "    num2 = int(input(\"Enter number 2: \"))\n",
    "    print(division(num1, num2))\n",
    "except ZeroDivisionError as e:\n",
    "    print(f\"{num2}  cannot be zero, Invalid Division by zero\")\n",
    "finally:\n",
    "    print(\"Inside finally block\")\n"
   ]
  },
  {
   "cell_type": "code",
   "execution_count": null,
   "id": "31d6d503",
   "metadata": {},
   "outputs": [],
   "source": []
  }
 ],
 "metadata": {
  "kernelspec": {
   "display_name": "myenv",
   "language": "python",
   "name": "python3"
  },
  "language_info": {
   "codemirror_mode": {
    "name": "ipython",
    "version": 3
   },
   "file_extension": ".py",
   "mimetype": "text/x-python",
   "name": "python",
   "nbconvert_exporter": "python",
   "pygments_lexer": "ipython3",
   "version": "3.12.11"
  }
 },
 "nbformat": 4,
 "nbformat_minor": 5
}
