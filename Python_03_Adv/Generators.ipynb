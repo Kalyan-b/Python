{
 "cells": [
  {
   "cell_type": "markdown",
   "id": "beefa230",
   "metadata": {},
   "source": [
    "Generators are similar to iterators, They use yeild keyword to produce series of values lazily it means they generate values on the fly and don't store them in the memory\n",
    "Normal function (return)\n",
    "Returns only one value and exits immediately.\n",
    "\n",
    "Example: In your first version, only 0 was returned, loop ended.\n",
    "\n",
    "Generator function (yield)\n",
    "Returns a generator object.\n",
    "Doesn’t run immediately, but produces values lazily (on demand).\n",
    "You pull values with next() or by looping (for loop).\n",
    "\n",
    "Why use generators?\n",
    "Memory efficient → doesn’t store all results at once.\n",
    "Infinite sequences are possible.\n",
    "Handy for streaming large data (e.g., reading a file line by line)."
   ]
  },
  {
   "cell_type": "code",
   "execution_count": 12,
   "id": "04becdc1",
   "metadata": {},
   "outputs": [
    {
     "name": "stdout",
     "output_type": "stream",
     "text": [
      "0\n"
     ]
    }
   ],
   "source": [
    "# ❌ Normal function with return\n",
    "def square(n):\n",
    "    for i in range(n):\n",
    "        return i ** 2   # returns immediately on first iteration\n",
    "\n",
    "print(square(3))  \n",
    "# Output: 0 (because it returns only once and exits)\n",
    "# Note: return gives back just ONE value and ends the function."
   ]
  },
  {
   "cell_type": "code",
   "execution_count": 19,
   "id": "16928c38",
   "metadata": {},
   "outputs": [
    {
     "name": "stdout",
     "output_type": "stream",
     "text": [
      "<generator object square at 0x0000020D2154C6C0>\n",
      "0\n",
      "1\n",
      "4\n"
     ]
    }
   ],
   "source": [
    "# ✅ Generator function with yield\n",
    "def square(n):\n",
    "    for i in range(n):\n",
    "        yield i ** 2   # yields one value at a time\n",
    "\n",
    "# When we call square(3), it doesn't run immediately\n",
    "# It creates a GENERATOR OBJECT\n",
    "print(square(3))   # Output: <generator object square at 0x...>\n",
    "\n",
    "# To get values, we must use next() or loop over it\n",
    "a = square(3)\n",
    "print(next(a))  \n",
    "print(next(a))  \n",
    "print(next(a))  \n",
    "# Output: 0\n",
    "# BUT careful: every time you call square(3), a NEW generator is created\n",
    "# So here, you always start again from 0"
   ]
  },
  {
   "cell_type": "code",
   "execution_count": 15,
   "id": "1724ea93",
   "metadata": {},
   "outputs": [
    {
     "name": "stdout",
     "output_type": "stream",
     "text": [
      "0\n",
      "1\n",
      "4\n"
     ]
    }
   ],
   "source": [
    "# ✅ Correct way: Create an iterator from the generator\n",
    "iterator = iter(square(3))  # same as just writing square(3)\n",
    "\n",
    "print(next(iterator))  # Output: 0  (first square)\n",
    "print(next(iterator))  # Output: 1  (second square)\n",
    "print(next(iterator))  # Output: 4  (third square)\n",
    "# print(next(iterator))  # Raises StopIteration (no more values)\n"
   ]
  }
 ],
 "metadata": {
  "kernelspec": {
   "display_name": "myenv",
   "language": "python",
   "name": "python3"
  },
  "language_info": {
   "codemirror_mode": {
    "name": "ipython",
    "version": 3
   },
   "file_extension": ".py",
   "mimetype": "text/x-python",
   "name": "python",
   "nbconvert_exporter": "python",
   "pygments_lexer": "ipython3",
   "version": "3.12.11"
  }
 },
 "nbformat": 4,
 "nbformat_minor": 5
}
