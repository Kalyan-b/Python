{
 "cells": [
  {
   "cell_type": "markdown",
   "id": "eb84525a",
   "metadata": {},
   "source": [
    "Decorators\n",
    "\n",
    "- A decorator is a powerful and flexible feature in Python.\n",
    "\n",
    "- It allows you to modify the behavior of a function or class method.\n",
    "\n",
    "- They are generally used to add extra functionality to functions or methods without changing their actual code."
   ]
  },
  {
   "cell_type": "code",
   "execution_count": 16,
   "id": "bfa7381d",
   "metadata": {},
   "outputs": [
    {
     "name": "stdout",
     "output_type": "stream",
     "text": [
      "Hello World\n",
      "Hello World\n",
      "Hello function deleted\n",
      "Hello World\n"
     ]
    }
   ],
   "source": [
    "#Function Copy\n",
    "# Simple function\n",
    "def hello():\n",
    "    return \"Hello World\"\n",
    "\n",
    "print(hello())  # Output: Hello World\n",
    "\n",
    "# Assigning function to another variable\n",
    "copy_hello = hello\n",
    "print(copy_hello())  # Output: Hello World\n",
    "\n",
    "# Delete original function reference\n",
    "del hello\n",
    "print(\"Hello function deleted\")\n",
    "\n",
    "# Still works through the copied reference\n",
    "print(copy_hello())  # Output: Hello World\n"
   ]
  },
  {
   "cell_type": "code",
   "execution_count": 24,
   "id": "72eb88fa",
   "metadata": {},
   "outputs": [
    {
     "name": "stdout",
     "output_type": "stream",
     "text": [
      "Main Method\n",
      "Sub Method inside the main method\n",
      "None\n",
      "Main Method\n",
      "Sub Method inside the main method\n",
      "11\n"
     ]
    }
   ],
   "source": [
    "# Closures: A closure is a function defined inside another function that remembers the state of its enclosing scope even after the outer function has finished executing.\n",
    "def main_method():\n",
    "    print(\"Main Method\")\n",
    "    \n",
    "    def sub_method():\n",
    "        print(\"Sub Method inside the main method\")\n",
    "    \n",
    "    return sub_method()\n",
    "\n",
    "print(main_method())\n",
    "\n",
    "def main_method(fun):\n",
    "    print(\"Main Method\")\n",
    "    \n",
    "    def sub_method():\n",
    "        print(\"Sub Method inside the main method\")\n",
    "        print(fun(\"Hello World\"))  # Using function passed as argument\n",
    "    \n",
    "    return sub_method()\n",
    "\n",
    "# Passing 'len' function as argument\n",
    "main_method(len)\n"
   ]
  },
  {
   "cell_type": "code",
   "execution_count": 42,
   "id": "3a812cce",
   "metadata": {},
   "outputs": [
    {
     "name": "stdout",
     "output_type": "stream",
     "text": [
      "Main Method (before func)\n",
      "Method 2\n",
      "Main Method (after func)\n"
     ]
    }
   ],
   "source": [
    "# A simple decorator\n",
    "def method1(func):\n",
    "    def wrapper():\n",
    "        print(\"Main Method (before func)\")  # Extra functionality\n",
    "        func()                             # Call the original function\n",
    "        print(\"Main Method (after func)\")  # Extra functionality\n",
    "    return wrapper\n",
    "\n",
    "@method1\n",
    "def method2():\n",
    "    print(\"Method 2\")\n",
    "\n",
    "# Call method2\n",
    "method2()\n"
   ]
  },
  {
   "cell_type": "code",
   "execution_count": 4,
   "id": "6307bfb6",
   "metadata": {},
   "outputs": [
    {
     "name": "stdout",
     "output_type": "stream",
     "text": [
      "Hello, Kalyan!\n",
      "Hello, Kalyan!\n",
      "Hello, Kalyan!\n"
     ]
    }
   ],
   "source": [
    "# Decorator factory to repeat function execution\n",
    "def repeat(n):\n",
    "    def decorator(func):\n",
    "        def wrapper(*args, **kwargs):\n",
    "            for _ in range(n):\n",
    "                func(*args, **kwargs)\n",
    "        return wrapper\n",
    "    return decorator\n",
    "\n",
    "@repeat(3)   # Repeat 3 times\n",
    "def greet_user(name):\n",
    "    print(f\"Hello, {name}!\")\n",
    "\n",
    "greet_user(\"Kalyan\")\n"
   ]
  },
  {
   "cell_type": "code",
   "execution_count": null,
   "id": "cce54a8c",
   "metadata": {},
   "outputs": [],
   "source": []
  }
 ],
 "metadata": {
  "kernelspec": {
   "display_name": "myenv",
   "language": "python",
   "name": "python3"
  },
  "language_info": {
   "codemirror_mode": {
    "name": "ipython",
    "version": 3
   },
   "file_extension": ".py",
   "mimetype": "text/x-python",
   "name": "python",
   "nbconvert_exporter": "python",
   "pygments_lexer": "ipython3",
   "version": "3.12.11"
  }
 },
 "nbformat": 4,
 "nbformat_minor": 5
}
