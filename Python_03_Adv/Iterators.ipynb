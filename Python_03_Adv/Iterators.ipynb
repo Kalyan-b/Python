{
 "cells": [
  {
   "cell_type": "markdown",
   "id": "00b6c79c",
   "metadata": {},
   "source": [
    "Iterators: Efficient Looping and Memory Management. Iterators provide way to access elements sequencially without exposing underlying structure"
   ]
  },
  {
   "cell_type": "code",
   "execution_count": 47,
   "id": "d6de28b8",
   "metadata": {},
   "outputs": [
    {
     "name": "stdout",
     "output_type": "stream",
     "text": [
      "[1, 2, 3, 4, 5, 6]\n"
     ]
    }
   ],
   "source": [
    "my_list = [1,2,3,4,5,6]\n",
    "print(my_list)"
   ]
  },
  {
   "cell_type": "code",
   "execution_count": 48,
   "id": "26d89732",
   "metadata": {},
   "outputs": [
    {
     "data": {
      "text/plain": [
       "list_iterator"
      ]
     },
     "execution_count": 48,
     "metadata": {},
     "output_type": "execute_result"
    }
   ],
   "source": [
    "iterators = iter(my_list)\n",
    "type(iterators)"
   ]
  },
  {
   "cell_type": "code",
   "execution_count": 49,
   "id": "83d50c04",
   "metadata": {},
   "outputs": [
    {
     "data": {
      "text/plain": [
       "<list_iterator at 0x1337a6c4520>"
      ]
     },
     "execution_count": 49,
     "metadata": {},
     "output_type": "execute_result"
    }
   ],
   "source": [
    "iterators"
   ]
  },
  {
   "cell_type": "code",
   "execution_count": 50,
   "id": "d651c5a3",
   "metadata": {},
   "outputs": [
    {
     "name": "stdout",
     "output_type": "stream",
     "text": [
      "1\n"
     ]
    }
   ],
   "source": [
    "try:\n",
    "    print(next(iterators))\n",
    "except StopIteration:\n",
    "    print(\"No elements in the list\")"
   ]
  },
  {
   "cell_type": "code",
   "execution_count": 51,
   "id": "84306f46",
   "metadata": {},
   "outputs": [],
   "source": [
    "import itertools\n",
    "iterators = itertools.cycle(iterators)"
   ]
  },
  {
   "cell_type": "code",
   "execution_count": 52,
   "id": "15df3649",
   "metadata": {},
   "outputs": [
    {
     "name": "stdout",
     "output_type": "stream",
     "text": [
      "2\n"
     ]
    }
   ],
   "source": [
    "print(next(iterators))"
   ]
  },
  {
   "cell_type": "code",
   "execution_count": null,
   "id": "11aac2e2",
   "metadata": {},
   "outputs": [],
   "source": []
  }
 ],
 "metadata": {
  "kernelspec": {
   "display_name": "myenv",
   "language": "python",
   "name": "python3"
  },
  "language_info": {
   "codemirror_mode": {
    "name": "ipython",
    "version": 3
   },
   "file_extension": ".py",
   "mimetype": "text/x-python",
   "name": "python",
   "nbconvert_exporter": "python",
   "pygments_lexer": "ipython3",
   "version": "3.12.11"
  }
 },
 "nbformat": 4,
 "nbformat_minor": 5
}
