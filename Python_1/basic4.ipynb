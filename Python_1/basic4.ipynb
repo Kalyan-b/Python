{
 "cells": [
  {
   "cell_type": "markdown",
   "id": "469cf551",
   "metadata": {},
   "source": [
    "# File Operations"
   ]
  },
  {
   "cell_type": "code",
   "execution_count": 6,
   "id": "ba7c870c",
   "metadata": {},
   "outputs": [
    {
     "name": "stdout",
     "output_type": "stream",
     "text": [
      "OpenAI, Inc. is an American artificial intelligence organization founded in December 2015 and headquartered in San Francisco, California.                         s\n",
      "It aims to develop \"safe and beneficial\" artificial general intelligence, which it defines as \"highly autonomous systems that outperform humans at most economically valuable work\".\n"
     ]
    }
   ],
   "source": [
    "# Read whole content of the file\n",
    "with open('example.txt', 'r') as file:\n",
    "    print(file.read())"
   ]
  },
  {
   "cell_type": "code",
   "execution_count": 18,
   "id": "991dab09",
   "metadata": {},
   "outputs": [
    {
     "name": "stdout",
     "output_type": "stream",
     "text": [
      "Hello World\n",
      "I'm Chitti\n",
      "o maramanishi maaa loki ra\n",
      "o maramanishi maaa loki ra\n",
      "na thelivi inthe kadha\n",
      "ne gynanam entho kadha\n"
     ]
    }
   ],
   "source": [
    "# Read line by line\n",
    "with open('example.txt', 'r') as file:\n",
    "    for line in file:\n",
    "        print(line.strip())"
   ]
  },
  {
   "cell_type": "code",
   "execution_count": 16,
   "id": "efd6b695",
   "metadata": {},
   "outputs": [],
   "source": [
    "#Writing to a file (overwriting)\n",
    "with open('example2.txt','w') as file:\n",
    "    file.write(\"Hello World\\n\")\n",
    "    file.write(\"I'm Chitti\\n\")"
   ]
  },
  {
   "cell_type": "code",
   "execution_count": 13,
   "id": "1eb19bd8",
   "metadata": {},
   "outputs": [],
   "source": [
    "#Writing to a file (without overriding)\n",
    "with open('example.txt', 'a') as file:\n",
    "    file.write(\"o maramanishi maaa loki ra\\n\")"
   ]
  },
  {
   "cell_type": "code",
   "execution_count": 14,
   "id": "1959e7c8",
   "metadata": {},
   "outputs": [],
   "source": [
    "#Writing multiple lines\n",
    "lines = ['na thelivi inthe kadha\\n'\n",
    "'ne gynanam entho kadha\\n']\n",
    "with open('example.txt', 'a') as file:\n",
    "    file.writelines(lines)"
   ]
  },
  {
   "cell_type": "markdown",
   "id": "5ccb2a91",
   "metadata": {},
   "source": [
    "*Even if we don't create a file automatically write file will be created, In case of read we get an error*\n",
    "For Binary use\n",
    "- rb to read and \n",
    "- wb to write or \n",
    "- ab to write without overwriting to file\n",
    "- if you want to write to a file then read it use w+, if file is not there it will be created, if file is already there it will be overwritten\n"
   ]
  },
  {
   "cell_type": "code",
   "execution_count": 24,
   "id": "3c33a62c",
   "metadata": {},
   "outputs": [
    {
     "name": "stdout",
     "output_type": "stream",
     "text": [
      "Ni valalo padataniki I'm not a small fish, Billa Killer fish\n"
     ]
    }
   ],
   "source": [
    "with open('example2.txt','w+') as file:\n",
    "    file.write('Ni valalo padataniki I\\'m not a small fish, Billa Killer fish')\n",
    "    file.seek(0) # Move the cursor to the beginning\n",
    "    content = file.read()\n",
    "    print(content)"
   ]
  },
  {
   "cell_type": "code",
   "execution_count": 28,
   "id": "44f39e6e",
   "metadata": {},
   "outputs": [],
   "source": [
    "# To create a direcory \n",
    "import os\n",
    "os.mkdir(\"exampleDir\")"
   ]
  },
  {
   "cell_type": "code",
   "execution_count": 30,
   "id": "a3f41510",
   "metadata": {},
   "outputs": [
    {
     "data": {
      "text/plain": [
       "['basic1.ipynb',\n",
       " 'basic2.ipynb',\n",
       " 'basic3.ipynb',\n",
       " 'basic4.ipynb',\n",
       " 'example.txt',\n",
       " 'example2.txt',\n",
       " 'exampleDir']"
      ]
     },
     "execution_count": 30,
     "metadata": {},
     "output_type": "execute_result"
    }
   ],
   "source": [
    "#listing files and directories in current directory\n",
    "os.listdir('.')"
   ]
  },
  {
   "cell_type": "code",
   "execution_count": 41,
   "id": "c47f8b39",
   "metadata": {},
   "outputs": [
    {
     "name": "stdout",
     "output_type": "stream",
     "text": [
      "exampleDir\\example1.txt\n",
      "c:\\Users\\91918\\Desktop\\PYTHON\\Python-Basics\\Python 1\\exampleDir\\example1.txt\n",
      "File Path exists c:\\Users\\91918\\Desktop\\PYTHON\\Python-Basics\\Python 1\\exampleDir\\example1.txt\n"
     ]
    }
   ],
   "source": [
    "# Joining Paths\n",
    "# Create a file in paticular path\n",
    "file_path = os.path.join('exampleDir','example1.txt')\n",
    "print(file_path)\n",
    "# to get full path\n",
    "file_path = os.path.join(os.getcwd(),'exampleDir','example1.txt')\n",
    "print(file_path)\n",
    "with open(file_path, 'w') as file:\n",
    "    file.write(\"\")\n",
    "if os.path.exists(file_path):\n",
    "    print(f\"File Path exists {file_path}\")\n",
    "else:\n",
    "    print(f\"File Path does not exist {file_path}\")\n",
    "    "
   ]
  },
  {
   "cell_type": "markdown",
   "id": "c2a67311",
   "metadata": {},
   "source": [
    "You can also check the above using os.path.isfile or os.path.isdir\n",
    "to get absolute path you can use os.path.abspath()"
   ]
  },
  {
   "cell_type": "markdown",
   "id": "5f6e6e9b",
   "metadata": {},
   "source": []
  }
 ],
 "metadata": {
  "kernelspec": {
   "display_name": "myenv",
   "language": "python",
   "name": "python3"
  },
  "language_info": {
   "codemirror_mode": {
    "name": "ipython",
    "version": 3
   },
   "file_extension": ".py",
   "mimetype": "text/x-python",
   "name": "python",
   "nbconvert_exporter": "python",
   "pygments_lexer": "ipython3",
   "version": "3.12.11"
  }
 },
 "nbformat": 4,
 "nbformat_minor": 5
}
