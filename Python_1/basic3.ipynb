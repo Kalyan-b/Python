{
 "cells": [
  {
   "cell_type": "markdown",
   "id": "41c734ff",
   "metadata": {},
   "source": [
    "Lambda (Map & Filter)"
   ]
  },
  {
   "cell_type": "code",
   "execution_count": 4,
   "id": "01564886",
   "metadata": {},
   "outputs": [],
   "source": [
    "numbers = [2,3,4,5,6]\n",
    "x = list(map(lambda num : num**2, numbers))"
   ]
  },
  {
   "cell_type": "code",
   "execution_count": 5,
   "id": "da569bec",
   "metadata": {},
   "outputs": [
    {
     "data": {
      "text/plain": [
       "[4, 9, 16, 25, 36]"
      ]
     },
     "execution_count": 5,
     "metadata": {},
     "output_type": "execute_result"
    }
   ],
   "source": [
    "x"
   ]
  },
  {
   "cell_type": "code",
   "execution_count": 6,
   "id": "de3c9ea8",
   "metadata": {},
   "outputs": [
    {
     "data": {
      "text/plain": [
       "[True, False, True, False, True]"
      ]
     },
     "execution_count": 6,
     "metadata": {},
     "output_type": "execute_result"
    }
   ],
   "source": [
    "list(map(lambda x : x%2==0, numbers))"
   ]
  },
  {
   "cell_type": "code",
   "execution_count": 7,
   "id": "2169453a",
   "metadata": {},
   "outputs": [
    {
     "data": {
      "text/plain": [
       "[2, 4, 6]"
      ]
     },
     "execution_count": 7,
     "metadata": {},
     "output_type": "execute_result"
    }
   ],
   "source": [
    "list(filter(lambda x : x%2==0, numbers))"
   ]
  },
  {
   "cell_type": "code",
   "execution_count": 13,
   "id": "dcffdcb0",
   "metadata": {},
   "outputs": [
    {
     "data": {
      "text/plain": [
       "[{'name': 'JK', 'age': 34}]"
      ]
     },
     "execution_count": 13,
     "metadata": {},
     "output_type": "execute_result"
    }
   ],
   "source": [
    "people = [\n",
    "    {\"name\":\"Kalyan\", \"age\": 22},\n",
    "    {\"name\": \"JK\", \"age\":34}\n",
    "]\n",
    "list(filter(lambda x:x[\"age\"]>25,people))"
   ]
  },
  {
   "cell_type": "code",
   "execution_count": null,
   "id": "3101194b",
   "metadata": {},
   "outputs": [],
   "source": []
  }
 ],
 "metadata": {
  "kernelspec": {
   "display_name": "myenv",
   "language": "python",
   "name": "python3"
  },
  "language_info": {
   "codemirror_mode": {
    "name": "ipython",
    "version": 3
   },
   "file_extension": ".py",
   "mimetype": "text/x-python",
   "name": "python",
   "nbconvert_exporter": "python",
   "pygments_lexer": "ipython3",
   "version": "3.12.11"
  }
 },
 "nbformat": 4,
 "nbformat_minor": 5
}
