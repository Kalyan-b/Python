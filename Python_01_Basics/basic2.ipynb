{
 "cells": [
  {
   "cell_type": "markdown",
   "id": "a0dd96a8",
   "metadata": {},
   "source": [
    "### Functions"
   ]
  },
  {
   "cell_type": "markdown",
   "id": "2b2d9835",
   "metadata": {},
   "source": [
    "Example : Temparature Conversion"
   ]
  },
  {
   "cell_type": "code",
   "execution_count": 3,
   "id": "86826a37",
   "metadata": {},
   "outputs": [],
   "source": [
    "def convert_temperature(temp, unit):\n",
    "    if unit == 'c':\n",
    "        return (f\"{(9/5 * temp) + 32} f\")\n",
    "    elif unit =='f':\n",
    "        return (f\"{(temp - 32) * 5/9} c\")\n",
    "    else:\n",
    "        print(\"Invalid Unit\")\n"
   ]
  },
  {
   "cell_type": "markdown",
   "id": "8eb44dcd",
   "metadata": {},
   "source": [
    "Factorial of given number using recursion"
   ]
  },
  {
   "cell_type": "code",
   "execution_count": 11,
   "id": "d661fb61",
   "metadata": {},
   "outputs": [],
   "source": [
    "def factorial(n):\n",
    "    if n == 0:\n",
    "        return 1\n",
    "    return n*factorial(n-1)\n",
    "\n",
    "    "
   ]
  },
  {
   "cell_type": "code",
   "execution_count": 12,
   "id": "b1c2f72f",
   "metadata": {},
   "outputs": [
    {
     "data": {
      "text/plain": [
       "3628800"
      ]
     },
     "execution_count": 12,
     "metadata": {},
     "output_type": "execute_result"
    }
   ],
   "source": [
    "factorial(10)"
   ]
  }
 ],
 "metadata": {
  "kernelspec": {
   "display_name": "myenv",
   "language": "python",
   "name": "python3"
  },
  "language_info": {
   "codemirror_mode": {
    "name": "ipython",
    "version": 3
   },
   "file_extension": ".py",
   "mimetype": "text/x-python",
   "name": "python",
   "nbconvert_exporter": "python",
   "pygments_lexer": "ipython3",
   "version": "3.12.11"
  }
 },
 "nbformat": 4,
 "nbformat_minor": 5
}
