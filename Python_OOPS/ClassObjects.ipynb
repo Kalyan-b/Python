{
 "cells": [
  {
   "cell_type": "markdown",
   "id": "ad231999",
   "metadata": {},
   "source": [
    "Classes and Objects"
   ]
  },
  {
   "cell_type": "code",
   "execution_count": 7,
   "id": "63095d58",
   "metadata": {},
   "outputs": [
    {
     "name": "stdout",
     "output_type": "stream",
     "text": [
      "<class 'type'>\n",
      "<class '__main__.Car'>\n",
      "<class '__main__.Car'>\n",
      "<__main__.Car object at 0x0000020C86E16720>\n"
     ]
    }
   ],
   "source": [
    "# A class is blueprint for creating object, Class = Attributes + Methods\n",
    "\n",
    "class Car:\n",
    "    pass\n",
    "\n",
    "print(type(Car)) # Classes are made from the metaclass (type).\n",
    "\n",
    "audi = Car()\n",
    "\n",
    "print(type(audi))\n",
    "print(Car)\n",
    "print(audi)"
   ]
  },
  {
   "cell_type": "code",
   "execution_count": 8,
   "id": "a6c4e294",
   "metadata": {},
   "outputs": [
    {
     "name": "stdout",
     "output_type": "stream",
     "text": [
      "4\n"
     ]
    }
   ],
   "source": [
    "audi.windows = 4\n",
    "print(audi.windows)"
   ]
  },
  {
   "cell_type": "code",
   "execution_count": 9,
   "id": "8155b575",
   "metadata": {},
   "outputs": [],
   "source": [
    "tata = Car()"
   ]
  },
  {
   "cell_type": "code",
   "execution_count": 11,
   "id": "f03ec615",
   "metadata": {},
   "outputs": [
    {
     "name": "stdout",
     "output_type": "stream",
     "text": [
      "5\n"
     ]
    },
    {
     "ename": "AttributeError",
     "evalue": "'Car' object has no attribute 'windows'",
     "output_type": "error",
     "traceback": [
      "\u001b[31m---------------------------------------------------------------------------\u001b[39m",
      "\u001b[31mAttributeError\u001b[39m                            Traceback (most recent call last)",
      "\u001b[36mCell\u001b[39m\u001b[36m \u001b[39m\u001b[32mIn[11]\u001b[39m\u001b[32m, line 3\u001b[39m\n\u001b[32m      1\u001b[39m tata.doors = \u001b[32m5\u001b[39m\n\u001b[32m      2\u001b[39m \u001b[38;5;28mprint\u001b[39m(tata.doors)\n\u001b[32m----> \u001b[39m\u001b[32m3\u001b[39m \u001b[38;5;28mprint\u001b[39m(\u001b[43mtata\u001b[49m\u001b[43m.\u001b[49m\u001b[43mwindows\u001b[49m)\n",
      "\u001b[31mAttributeError\u001b[39m: 'Car' object has no attribute 'windows'"
     ]
    }
   ],
   "source": [
    "tata.doors = 5\n",
    "print(tata.doors)\n",
    "print(tata.windows)"
   ]
  },
  {
   "cell_type": "code",
   "execution_count": 15,
   "id": "5b981801",
   "metadata": {},
   "outputs": [
    {
     "data": {
      "text/plain": [
       "['__class__',\n",
       " '__delattr__',\n",
       " '__dict__',\n",
       " '__dir__',\n",
       " '__doc__',\n",
       " '__eq__',\n",
       " '__format__',\n",
       " '__ge__',\n",
       " '__getattribute__',\n",
       " '__getstate__',\n",
       " '__gt__',\n",
       " '__hash__',\n",
       " '__init__',\n",
       " '__init_subclass__',\n",
       " '__le__',\n",
       " '__lt__',\n",
       " '__module__',\n",
       " '__ne__',\n",
       " '__new__',\n",
       " '__reduce__',\n",
       " '__reduce_ex__',\n",
       " '__repr__',\n",
       " '__setattr__',\n",
       " '__sizeof__',\n",
       " '__str__',\n",
       " '__subclasshook__',\n",
       " '__weakref__',\n",
       " 'doors']"
      ]
     },
     "execution_count": 15,
     "metadata": {},
     "output_type": "execute_result"
    }
   ],
   "source": [
    "# The dir() function in Python is a built-in function used for introspection, providing a list of names (attributes and methods) associated with an object or in the current scope\n",
    "dir(tata)"
   ]
  },
  {
   "cell_type": "code",
   "execution_count": 16,
   "id": "bf8fd108",
   "metadata": {},
   "outputs": [
    {
     "name": "stdout",
     "output_type": "stream",
     "text": [
      "['Car', 'In', 'Out', '_', '_1', '_12', '_13', '_15', '__', '___', '__builtin__', '__builtins__', '__doc__', '__loader__', '__name__', '__package__', '__spec__', '__vsc_ipynb_file__', '_dh', '_i', '_i1', '_i10', '_i11', '_i12', '_i13', '_i14', '_i15', '_i16', '_i2', '_i3', '_i4', '_i5', '_i6', '_i7', '_i8', '_i9', '_ih', '_ii', '_iii', '_oh', 'audi', 'car', 'exit', 'get_ipython', 'my_function', 'my_variable', 'open', 'quit', 'tata']\n"
     ]
    }
   ],
   "source": [
    "# When called as dir(), it returns a list of names defined in the current local scope.\n",
    "# This includes variables, functions, classes, and imported modules. \n",
    "print(dir())"
   ]
  },
  {
   "cell_type": "code",
   "execution_count": 49,
   "id": "a8b2fccf",
   "metadata": {},
   "outputs": [],
   "source": [
    "# The self parameter is a reference to the current instance of the class, \n",
    "# and is used to access variables that belongs to the class.\n",
    "# It does not have to be named self , you can call it whatever you like, \n",
    "# but it has to be the first parameter of any function in the class\n",
    "\n",
    "# Instance Variable and Methods\n",
    "class Dog():\n",
    "    # Class Variable (shared by all objects)\n",
    "    caste = \"Dogs don't have caste\"\n",
    "    # Constructor (called when you create an object)\n",
    "    def __init__(self, name, age):\n",
    "        # Instance Variables (unique for each object)\n",
    "        self.name = name\n",
    "        self.age = age\n",
    "    def bark(self):\n",
    "        return f\"Bow Bow {self.name}\""
   ]
  },
  {
   "cell_type": "code",
   "execution_count": 50,
   "id": "3b1ec72f",
   "metadata": {},
   "outputs": [
    {
     "name": "stdout",
     "output_type": "stream",
     "text": [
      "Dogs don't have caste\n",
      "Bow Bow Bruno\n"
     ]
    }
   ],
   "source": [
    "dog1 = Dog(\"Bruno\", 20)\n",
    "print(dog1.caste)\n",
    "print(dog1.bark())\n",
    "# In Python, every function returns something.\n",
    "# If you don’t use return, the function implicitly returns None."
   ]
  },
  {
   "cell_type": "code",
   "execution_count": 31,
   "id": "6a04da7e",
   "metadata": {},
   "outputs": [
    {
     "data": {
      "text/plain": [
       "20"
      ]
     },
     "execution_count": 31,
     "metadata": {},
     "output_type": "execute_result"
    }
   ],
   "source": [
    "dog1.name"
   ]
  },
  {
   "cell_type": "code",
   "execution_count": null,
   "id": "90fe8741",
   "metadata": {},
   "outputs": [],
   "source": []
  }
 ],
 "metadata": {
  "kernelspec": {
   "display_name": "myenv",
   "language": "python",
   "name": "python3"
  },
  "language_info": {
   "codemirror_mode": {
    "name": "ipython",
    "version": 3
   },
   "file_extension": ".py",
   "mimetype": "text/x-python",
   "name": "python",
   "nbconvert_exporter": "python",
   "pygments_lexer": "ipython3",
   "version": "3.12.11"
  }
 },
 "nbformat": 4,
 "nbformat_minor": 5
}
