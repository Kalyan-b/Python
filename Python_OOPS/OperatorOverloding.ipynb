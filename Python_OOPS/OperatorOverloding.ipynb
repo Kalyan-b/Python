{
 "cells": [
  {
   "cell_type": "code",
   "execution_count": 1,
   "id": "c4887f32",
   "metadata": {},
   "outputs": [],
   "source": [
    "# Operator overloading means giving extra meaning to Python’s built-in operators \n",
    "# (+, -, *, <, >, ==, etc.) so they can work with custom objects.\n",
    "# Achieved by overriding special (magic/dunder) methods like __add__, __sub__, etc.\n",
    "\n",
    "# 🔹 Arithmetic Operators\n",
    "# __add__(self, other)      → + \n",
    "# __sub__(self, other)      → -\n",
    "# __mul__(self, other)      → *\n",
    "# __truediv__(self, other)  → /\n",
    "# __floordiv__(self, other) → //\n",
    "# __mod__(self, other)      → %\n",
    "# __pow__(self, other)      → **\n",
    "\n",
    "# 🔹 Comparison Operators\n",
    "# __eq__(self, other)  → ==\n",
    "# __ne__(self, other)  → !=\n",
    "# __lt__(self, other)  → <\n",
    "# __le__(self, other)  → <=\n",
    "# __gt__(self, other)  → >\n",
    "# __ge__(self, other)  → >=\n",
    "\n",
    "# ✅ Important:\n",
    "# - These methods always take exactly two arguments: self (left operand), other (right operand).\n",
    "# - If \"other\" is not the same type, you should handle it (or return NotImplemented).\n"
   ]
  },
  {
   "cell_type": "code",
   "execution_count": 2,
   "id": "5959b666",
   "metadata": {},
   "outputs": [],
   "source": [
    "class Point:\n",
    "    def __init__(self, x, y):\n",
    "        self.x = x\n",
    "        self.y = y\n",
    "    \n",
    "    # Overload +\n",
    "    def __add__(self, other):\n",
    "        return Point(self.x + other.x, self.y + other.y)\n",
    "    \n",
    "    # Overload -\n",
    "    def __sub__(self, other):\n",
    "        return Point(self.x - other.x, self.y - other.y)\n",
    "    \n",
    "    # Overload *\n",
    "    def __mul__(self, other):\n",
    "        return Point(self.x * other.x, self.y * other.y)\n",
    "    \n",
    "    # Comparison operators\n",
    "    def __eq__(self, other):\n",
    "        return self.x == other.x and self.y == other.y\n",
    "    \n",
    "    def __lt__(self, other):\n",
    "        # Compare based on distance from origin\n",
    "        return (self.x**2 + self.y**2) < (other.x**2 + other.y**2)\n",
    "    \n",
    "    def __gt__(self, other):\n",
    "        return (self.x**2 + self.y**2) > (other.x**2 + other.y**2)\n",
    "    \n",
    "    # For readable output\n",
    "    def __repr__(self):\n",
    "        return f\"Point(x={self.x}, y={self.y})\"\n"
   ]
  },
  {
   "cell_type": "code",
   "execution_count": null,
   "id": "ea3cf2f0",
   "metadata": {},
   "outputs": [
    {
     "name": "stdout",
     "output_type": "stream",
     "text": [
      "Addition: Point(x=6, y=8)\n",
      "Subtraction: Point(x=-2, y=-2)\n",
      "Multiplication: Point(x=8, y=15)\n",
      "Equal? False\n",
      "Less than? True\n",
      "Greater than? False\n"
     ]
    }
   ],
   "source": [
    "p1 = Point(2, 3)\n",
    "p2 = Point(4, 5)\n",
    "\n",
    "print(\"Addition:\", p1 + p2)       # Point(x=6, y=8)\n",
    "print(\"Subtraction:\", p1 - p2)    # Point(x=-2, y=-2)\n",
    "print(\"Multiplication:\", p1 * p2) # Point(x=8, y=15)\n",
    "print(\"Equal?\", p1 == p2)         # False\n",
    "print(\"Less than?\", p1 < p2)      # True  (distance from origin)\n",
    "print(\"Greater than?\", p1 > p2)   # False\n"
   ]
  }
 ],
 "metadata": {
  "kernelspec": {
   "display_name": "myenv",
   "language": "python",
   "name": "python3"
  },
  "language_info": {
   "codemirror_mode": {
    "name": "ipython",
    "version": 3
   },
   "file_extension": ".py",
   "mimetype": "text/x-python",
   "name": "python",
   "nbconvert_exporter": "python",
   "pygments_lexer": "ipython3",
   "version": "3.12.11"
  }
 },
 "nbformat": 4,
 "nbformat_minor": 5
}
